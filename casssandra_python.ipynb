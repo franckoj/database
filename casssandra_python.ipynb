{
  "nbformat": 4,
  "nbformat_minor": 0,
  "metadata": {
    "colab": {
      "name": "casssandra-python.ipynb",
      "provenance": [],
      "authorship_tag": "ABX9TyPcTwBevbC8FqBeaNy2GgAd",
      "include_colab_link": true
    },
    "kernelspec": {
      "name": "python3",
      "display_name": "Python 3"
    },
    "language_info": {
      "name": "python"
    }
  },
  "cells": [
    {
      "cell_type": "markdown",
      "metadata": {
        "id": "view-in-github",
        "colab_type": "text"
      },
      "source": [
        "<a href=\"https://colab.research.google.com/github/franckoj/database/blob/main/casssandra_python.ipynb\" target=\"_parent\"><img src=\"https://colab.research.google.com/assets/colab-badge.svg\" alt=\"Open In Colab\"/></a>"
      ]
    },
    {
      "cell_type": "code",
      "metadata": {
        "id": "45qsUxZEqxKU"
      },
      "source": [
        "!pip install cassandra-driver\n"
      ],
      "execution_count": null,
      "outputs": []
    },
    {
      "cell_type": "code",
      "metadata": {
        "id": "-p3gAvdNsst6"
      },
      "source": [
        "import cassandra\n",
        "from cassandra.auth import PlainTextAuthProvider\n",
        "from cassandra.cluster import Cluster\n",
        "from ssl import PROTOCOL_TLSv1_2,SSLContext,CERT_NONE\n",
        "\n",
        "ssl_context= SSLContext(PROTOCOL_TLSv1_2)\n",
        "ssl_context.verify_mode=CERT_NONE\n",
        "\n",
        "auth_provider=PlainTextAuthProvider(username='pwcass',password='4npxDaR2mxA6Gbj3zlKpAzAGaK7vQrl6jP7szCW7LsAWE9vSaeBOWcvOUfAzrRi4MDPk3jla2QCSkEh7XlNMoQ==')\n",
        "cluster=Cluster(['pwcass.cassandra.cosmos.azure.com'],port=10350,auth_provider=auth_provider,ssl_context=ssl_context)\n",
        "session=cluster.connect()\n",
        "from requests.utils import DEFAULT_CA_BUNDLE_PATH"
      ],
      "execution_count": null,
      "outputs": []
    },
    {
      "cell_type": "code",
      "metadata": {
        "colab": {
          "base_uri": "https://localhost:8080/"
        },
        "id": "LofXbHRktdYt",
        "outputId": "cf4d5d7d-5cdc-4d06-a2cc-8b53903356b6"
      },
      "source": [
        "session.execute('CREATE KEYSPACE IF NOT EXISTS FRAN WITH replication={\\'class\\':\\'NetworkTopologyStrategy\\',\\'datacenter\\':\\'1\\'}')"
      ],
      "execution_count": null,
      "outputs": [
        {
          "output_type": "execute_result",
          "data": {
            "text/plain": [
              "<cassandra.cluster.ResultSet at 0x7f67ccc84250>"
            ]
          },
          "metadata": {
            "tags": []
          },
          "execution_count": 26
        }
      ]
    },
    {
      "cell_type": "code",
      "metadata": {
        "colab": {
          "base_uri": "https://localhost:8080/"
        },
        "id": "Od84aU8UzxQv",
        "outputId": "25ecce3a-0d77-450a-add3-34f45fa98dad"
      },
      "source": [
        "session.execute('CREATE TABLE IF NOT EXISTS FRAN.cities(user_id int PRIMARY KEY , username text,user_bcity text)')"
      ],
      "execution_count": null,
      "outputs": [
        {
          "output_type": "execute_result",
          "data": {
            "text/plain": [
              "<cassandra.cluster.ResultSet at 0x7f67d056f890>"
            ]
          },
          "metadata": {
            "tags": []
          },
          "execution_count": 27
        }
      ]
    },
    {
      "cell_type": "code",
      "metadata": {
        "colab": {
          "base_uri": "https://localhost:8080/"
        },
        "id": "guWYuQqN5m8K",
        "outputId": "99e3e2b0-04ad-4e50-d045-b3a9a0983c09"
      },
      "source": [
        "session.execute(\"INSERT INTO FRAN.cities (user_id,username,user_bcity) VALUES (%s,%s,%s)\",[1,'John','Chennai'])\n",
        "session.execute(\"INSERT INTO FRAN.cities (user_id,username,user_bcity) VALUES (%s,%s,%s)\",[2,'Jovin','Manali'])\n",
        "session.execute(\"INSERT INTO FRAN.cities (user_id,username,user_bcity) VALUES (%s,%s,%s)\",[3,'Haines','Kochi'])\n",
        "session.execute(\"INSERT INTO FRAN.cities (user_id,username,user_bcity) VALUES (%s,%s,%s)\",[4,'Arun','Kovalam'])"
      ],
      "execution_count": null,
      "outputs": [
        {
          "output_type": "execute_result",
          "data": {
            "text/plain": [
              "<cassandra.cluster.ResultSet at 0x7f67ccc44510>"
            ]
          },
          "metadata": {
            "tags": []
          },
          "execution_count": 29
        }
      ]
    },
    {
      "cell_type": "code",
      "metadata": {
        "id": "9TGGhy277_rL"
      },
      "source": [
        "from prettytable import PrettyTable\n",
        "\n",
        "def PrintTable(rows):\n",
        "  t=PrettyTable(['User_ID','Name','City'])\n",
        "  for r in rows:\n",
        "    t.add_row([r.user_id,r.username,r.user_bcity])\n",
        "  print(t)\n",
        "rows=session.execute('SELECT * FROM FRAN.cities')\n",
        "PrintTable(rows)"
      ],
      "execution_count": null,
      "outputs": []
    },
    {
      "cell_type": "code",
      "metadata": {
        "id": "RKDohuU6_xdG"
      },
      "source": [
        "\n",
        "session.execute(\"CREATE KEYSPACE IF NOT EXISTS cycling WITH REPLICATION={\\'class\\': \\'NetworkTopologyStrategy\\',\\'datacenter1\\':\\'3\\'}\")"
      ],
      "execution_count": null,
      "outputs": []
    },
    {
      "cell_type": "code",
      "metadata": {
        "id": "LNtnYhtZAWry"
      },
      "source": [
        "session.execute(\"CREATE TABLE IF NOT EXISTS cycling.rankbyyearandname(race_year int , race_name text, cyclist_name text, rank int, PRIMARY KEY((race_year, race_name), rank) );\")"
      ],
      "execution_count": null,
      "outputs": []
    },
    {
      "cell_type": "code",
      "metadata": {
        "id": "klPUMeBnEjLy"
      },
      "source": [
        "session.execute(\"INSERT INTO cycling.rankbyyearandname (race_year, race_name, cyclist_name, rank ) VALUES (%s,%s,%s,%s)\",[2015, 'Tour of Italy','Raj', 1])\n",
        "session.execute(\"INSERT INTO cycling.rankbyyearandname (race_year, race_name, cyclist_name, rank ) VALUES (%s,%s,%s,%s)\",[2014, 'Tour of France','Raju', 2])\n",
        "session.execute(\"INSERT INTO cycling.rankbyyearandname (race_year, race_name, cyclist_name, rank ) VALUES (%s,%s,%s,%s)\",[2018, 'Tour of Japan','Raje', 3])\n",
        "session.execute(\"INSERT INTO cycling.rankbyyearandname (race_year, race_name, cyclist_name, rank ) VALUES (%s,%s,%s,%s)\",[2019, 'Tour of Australia','Rajt', 4])\n",
        "session.execute(\"INSERT INTO cycling.rankbyyearandname (race_year, race_name, cyclist_name, rank ) VALUES (%s,%s,%s,%s)\",[2005, 'Tour of Autria','Rajy', 5])\n",
        "session.execute(\"INSERT INTO cycling.rankbyyearandname (race_year, race_name, cyclist_name, rank ) VALUES (%s,%s,%s,%s)\",[2021, '4th Tour of Italy','Rajt', 6])\n",
        "session.execute(\"INSERT INTO cycling.rankbyyearandname (race_year, race_name, cyclist_name, rank ) VALUES (%s,%s,%s,%s)\",[2007, '4th Tour of France','Rajg', 7])\n",
        "session.execute(\"INSERT INTO cycling.rankbyyearandname (race_year, race_name, cyclist_name, rank ) VALUES (%s,%s,%s,%s)\",[2004, '4th Tour of Autria','Rajd', 8])"
      ],
      "execution_count": null,
      "outputs": []
    },
    {
      "cell_type": "code",
      "metadata": {
        "id": "p1thHE2qElTj"
      },
      "source": [
        "session.execute(\"CREATE TYPE cycling.basic_info(birthday timestamp,  nationality text, weight text, height text)\")"
      ],
      "execution_count": null,
      "outputs": []
    },
    {
      "cell_type": "code",
      "metadata": {
        "id": "Y_exVhFuPzec"
      },
      "source": [
        "session.execute(\"CREATE TABLE cycling.cycling_stats (id uuid PRIMARY KEY, lastname text, basics FROZEN<basic_info>);\")"
      ],
      "execution_count": null,
      "outputs": []
    },
    {
      "cell_type": "code",
      "metadata": {
        "id": "2yqCMohKP0cI"
      },
      "source": [
        "session.execute(\"INSERT INTO cycling.cycling_stats (id, lastname, basics ) VALUES (8b845131-c8b2-4197-84e6-f713de36f496, 'FRAME',{ birthday: '1993-08-18', nationality: 'India', weight:null, height:null});\")"
      ],
      "execution_count": null,
      "outputs": []
    },
    {
      "cell_type": "code",
      "metadata": {
        "id": "lfcmRjL4P4qF"
      },
      "source": [
        "session.execute(\"CREATE TYPE cycling.race (race_title text, race_date timestamp, race_time text);\")\n",
        "session.execute(\"CREATE TABLE cycling.cyclist_races (id uuid PRIMARY KEY, lastname text, firstname text, races list<FROZEN<race>>);\")"
      ],
      "execution_count": null,
      "outputs": []
    },
    {
      "cell_type": "code",
      "metadata": {
        "id": "Mp7Ki4ywP8UE"
      },
      "source": [
        "session.execute(\"INSERT INTO cycling.cyclist_races (id, lastname, firstname, races ) VALUES (7da4b41e-8a42-4dc0-ba50-6c928fcf254a, 'Los','Mary', [{ race_title: 'PREM RACE', race_date:'09-09-2018', race_time:'09:50'},{ race_title: 'PREM1 RACE', race_date:'09-09-2008', race_time:'08:50'}]);\")"
      ],
      "execution_count": null,
      "outputs": []
    },
    {
      "cell_type": "code",
      "metadata": {
        "id": "Mg97Ou4uP_Si"
      },
      "source": [
        "def PrintTable(rows):\n",
        "    t = PrettyTable(['id','lastname','firstname','races'])\n",
        "    for r in rows:\n",
        "      t.add_row([r.id, r.lastname, r.firstname,r.races])\n",
        "    print(t)\n",
        "\n",
        "rows = session.execute('SELECT * FROM cycling.cyclist_races LIMIT 5')\n",
        "PrintTable(rows)"
      ],
      "execution_count": null,
      "outputs": []
    },
    {
      "cell_type": "code",
      "metadata": {
        "id": "WgX5_xsrQBxk"
      },
      "source": [
        ""
      ],
      "execution_count": null,
      "outputs": []
    }
  ]
}