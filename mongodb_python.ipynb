{
  "nbformat": 4,
  "nbformat_minor": 0,
  "metadata": {
    "colab": {
      "name": "mongodb-python.ipynb",
      "provenance": [],
      "authorship_tag": "ABX9TyN4H0N/Q21mg9XWnztuCNPJ",
      "include_colab_link": true
    },
    "kernelspec": {
      "name": "python3",
      "display_name": "Python 3"
    },
    "language_info": {
      "name": "python"
    }
  },
  "cells": [
    {
      "cell_type": "markdown",
      "metadata": {
        "id": "view-in-github",
        "colab_type": "text"
      },
      "source": [
        "<a href=\"https://colab.research.google.com/github/franckoj/database/blob/main/mongodb_python.ipynb\" target=\"_parent\"><img src=\"https://colab.research.google.com/assets/colab-badge.svg\" alt=\"Open In Colab\"/></a>"
      ]
    },
    {
      "cell_type": "code",
      "metadata": {
        "id": "Ltp4iactPZM3"
      },
      "source": [
        "import pymongo\n"
      ],
      "execution_count": null,
      "outputs": []
    },
    {
      "cell_type": "code",
      "metadata": {
        "id": "LoUaoxOpQcOJ"
      },
      "source": [
        "uri=\"mongodb://mosmoscosmos:2G1hQt1Nu4j6UEK50QKkHd5EsmbGLgjaep0GG4wmtrI1guPHGAdv9VQL3j8Wj4PajLIvIdx54jyezQLNXkHJCw==@mosmoscosmos.mongo.cosmos.azure.com:10255/?ssl=true&replicaSet=globaldb&retrywrites=false&maxIdleTimeMS=120000&appName=@mosmoscosmos@\"\n",
        "myclient = pymongo.MongoClient(uri)\n",
        "mydb = myclient[\"multiverse\"]"
      ],
      "execution_count": null,
      "outputs": []
    },
    {
      "cell_type": "code",
      "metadata": {
        "colab": {
          "base_uri": "https://localhost:8080/"
        },
        "id": "E5WCaeDlQewI",
        "outputId": "750627ac-4f1b-4061-923a-fc90b30f48e6"
      },
      "source": [
        "dblist = myclient.list_database_names()\n",
        "if \"multiverse\" in dblist:\n",
        "  print(\"The datbaase is present\")\n",
        "else:\n",
        "  print(\"No database\")"
      ],
      "execution_count": null,
      "outputs": [
        {
          "output_type": "stream",
          "text": [
            "The datbaase is present\n"
          ],
          "name": "stdout"
        }
      ]
    },
    {
      "cell_type": "code",
      "metadata": {
        "colab": {
          "base_uri": "https://localhost:8080/"
        },
        "id": "r52hCr4wQg_4",
        "outputId": "7fbd686f-dd03-4408-bc59-9b29acc85a68"
      },
      "source": [
        "print(myclient.list_database_names())"
      ],
      "execution_count": null,
      "outputs": [
        {
          "output_type": "stream",
          "text": [
            "['universe', 'multiverse']\n"
          ],
          "name": "stdout"
        }
      ]
    },
    {
      "cell_type": "code",
      "metadata": {
        "id": "32dJyd9-Qjo3"
      },
      "source": [
        "myplanet= mydb['earth']"
      ],
      "execution_count": null,
      "outputs": []
    },
    {
      "cell_type": "code",
      "metadata": {
        "colab": {
          "base_uri": "https://localhost:8080/"
        },
        "id": "BqrMCGtGQpZL",
        "outputId": "c17acd73-2e23-490d-ad10-b3922104fd9c"
      },
      "source": [
        "country1={\n",
        "    \"name\":\"Honululu\",\n",
        "    \"population\":\"unknown\"\n",
        "}\n",
        "country2={\n",
        "    \"name\":\"Pikachuland\",\n",
        "    \"capital\":\"Townsville\",\n",
        "    \"potatolover\": True\n",
        "}\n",
        "myplanet.insert_one(country1)"
      ],
      "execution_count": null,
      "outputs": [
        {
          "output_type": "execute_result",
          "data": {
            "text/plain": [
              "<pymongo.results.InsertOneResult at 0x7f940a4ce370>"
            ]
          },
          "metadata": {
            "tags": []
          },
          "execution_count": 6
        }
      ]
    },
    {
      "cell_type": "code",
      "metadata": {
        "colab": {
          "base_uri": "https://localhost:8080/"
        },
        "id": "XXD8IEMxQrz5",
        "outputId": "a2bb329d-6040-4723-e58b-1b8e9a95835a"
      },
      "source": [
        "x = myplanet.insert_one(country2)\n",
        "x"
      ],
      "execution_count": null,
      "outputs": [
        {
          "output_type": "execute_result",
          "data": {
            "text/plain": [
              "<pymongo.results.InsertOneResult at 0x7f940a4bc460>"
            ]
          },
          "metadata": {
            "tags": []
          },
          "execution_count": 7
        }
      ]
    },
    {
      "cell_type": "code",
      "metadata": {
        "colab": {
          "base_uri": "https://localhost:8080/"
        },
        "id": "K95mOlZkRZ7X",
        "outputId": "b72c4631-ce7d-418a-e6a9-9a155542c601"
      },
      "source": [
        "print(dir(x))"
      ],
      "execution_count": null,
      "outputs": [
        {
          "output_type": "stream",
          "text": [
            "['_InsertOneResult__acknowledged', '_InsertOneResult__inserted_id', '_WriteResult__acknowledged', '__class__', '__delattr__', '__dir__', '__doc__', '__eq__', '__format__', '__ge__', '__getattribute__', '__gt__', '__hash__', '__init__', '__init_subclass__', '__le__', '__lt__', '__module__', '__ne__', '__new__', '__reduce__', '__reduce_ex__', '__repr__', '__setattr__', '__sizeof__', '__slots__', '__str__', '__subclasshook__', '_raise_if_unacknowledged', 'acknowledged', 'inserted_id']\n"
          ],
          "name": "stdout"
        }
      ]
    },
    {
      "cell_type": "code",
      "metadata": {
        "colab": {
          "base_uri": "https://localhost:8080/"
        },
        "id": "xXIE-QbSRdC9",
        "outputId": "687ac6b9-a47b-4fef-bf1f-b2d198e4a685"
      },
      "source": [
        "x.inserted_id"
      ],
      "execution_count": null,
      "outputs": [
        {
          "output_type": "execute_result",
          "data": {
            "text/plain": [
              "ObjectId('60cda33b580c890ba8baa9d3')"
            ]
          },
          "metadata": {
            "tags": []
          },
          "execution_count": 9
        }
      ]
    },
    {
      "cell_type": "code",
      "metadata": {
        "id": "VgOuljp4RgRQ"
      },
      "source": [
        "contries[{\n",
        "    \n",
        "}]"
      ],
      "execution_count": null,
      "outputs": []
    },
    {
      "cell_type": "code",
      "metadata": {
        "id": "qG5Zv7t4SS3b"
      },
      "source": [
        "countries=[{\n",
        "    \"name\":\"Honululu\",\n",
        "    \"population\":\"unknown\"\n",
        "        },{\n",
        "    \"name\":\"Pikachuland\",\n",
        "    \"capital\":\"Townsville\",\n",
        "    \"potatolover\": True\n",
        "}]\n",
        "x = myplanet.insert_many(countries)"
      ],
      "execution_count": null,
      "outputs": []
    },
    {
      "cell_type": "code",
      "metadata": {
        "colab": {
          "base_uri": "https://localhost:8080/"
        },
        "id": "OzJGSNWvSSLT",
        "outputId": "e7eb63d8-4035-4235-ef25-91e49bea2626"
      },
      "source": [
        "x.inserted_ids"
      ],
      "execution_count": null,
      "outputs": [
        {
          "output_type": "execute_result",
          "data": {
            "text/plain": [
              "[ObjectId('60cda50f580c890ba8baa9d4'), ObjectId('60cda50f580c890ba8baa9d5')]"
            ]
          },
          "metadata": {
            "tags": []
          },
          "execution_count": 15
        }
      ]
    },
    {
      "cell_type": "code",
      "metadata": {
        "id": "6jbyI5NTSmb4"
      },
      "source": [
        "x=myplanet.find_one()"
      ],
      "execution_count": null,
      "outputs": []
    },
    {
      "cell_type": "code",
      "metadata": {
        "colab": {
          "base_uri": "https://localhost:8080/"
        },
        "id": "FgBBHnkYTjno",
        "outputId": "68fa3871-0799-4dbe-9a16-10577235a6fb"
      },
      "source": [
        "x"
      ],
      "execution_count": null,
      "outputs": [
        {
          "output_type": "execute_result",
          "data": {
            "text/plain": [
              "{'_id': ObjectId('60cda0473fba09e53a806b44'),\n",
              " 'name': 'Honululu',\n",
              " 'population': 'unknown'}"
            ]
          },
          "metadata": {
            "tags": []
          },
          "execution_count": 17
        }
      ]
    },
    {
      "cell_type": "code",
      "metadata": {
        "id": "UDCRye9RTk_h"
      },
      "source": [
        "for x in myplanet.find():\n",
        "  print(x)"
      ],
      "execution_count": null,
      "outputs": []
    },
    {
      "cell_type": "code",
      "metadata": {
        "id": "ls2FchVGTwtw"
      },
      "source": [
        "for x in myplanet.find({}, {\"_id\":0}):\n",
        "  print (x)\n"
      ],
      "execution_count": null,
      "outputs": []
    },
    {
      "cell_type": "code",
      "metadata": {
        "id": "fjxo5dXiURrM"
      },
      "source": [
        "for x in myplanet.find({}, {\"_id\":0,\"name\":1,\"potatolover\":1 }):\n",
        "  print(x)"
      ],
      "execution_count": null,
      "outputs": []
    },
    {
      "cell_type": "code",
      "metadata": {
        "id": "Lwe9LDpcVknL"
      },
      "source": [
        "search_doc = {'population':'unknown'}\n",
        "for x in myplanet.find(search_doc):\n",
        "  print(x)"
      ],
      "execution_count": null,
      "outputs": []
    },
    {
      "cell_type": "code",
      "metadata": {
        "id": "w7JsnHagpQ-G"
      },
      "source": [
        "\n",
        "search_doc = {'population':{\"$lt\":1000 } }\n",
        "for x in myplanet.find(search_doc):\n",
        "  print(x)"
      ],
      "execution_count": null,
      "outputs": []
    },
    {
      "cell_type": "code",
      "metadata": {
        "id": "NuXobU3Nqpsm"
      },
      "source": [
        "\n",
        "search_doc = {'population':{\"$gt\":\"p\" } }\n",
        "for x in myplanet.find(search_doc):\n",
        "  print(x)"
      ],
      "execution_count": null,
      "outputs": []
    },
    {
      "cell_type": "code",
      "metadata": {
        "id": "IZiovM9LrHUS"
      },
      "source": [
        "\n",
        "search = {'name':{\"$regex\":\"^H\" } }\n",
        "for x in myplanet.find(search):\n",
        "  print(x)"
      ],
      "execution_count": null,
      "outputs": []
    },
    {
      "cell_type": "code",
      "metadata": {
        "id": "VKkFaVFhrOOr"
      },
      "source": [
        "searchfor= { \"name\" : \"Pikachuland\" }\n",
        "updatefor = {\"$set\": { \"population\":500, \"drama\": True } }\n",
        "\n",
        "myplanet.update_one(searchfor, updatefor)\n",
        "\n",
        "for place in myplanet.find():\n",
        "  print(place)"
      ],
      "execution_count": null,
      "outputs": []
    },
    {
      "cell_type": "code",
      "metadata": {
        "id": "msKdc2p0tV3S"
      },
      "source": [
        "searchfor= { \"name\" : { \"$regex\":\"^[HPTG]\"} }\n",
        "updatefor = {\"$set\": { \"lovesKetchup\":False} }\n",
        "\n",
        "x = myplanet.update_many(searchfor, updatefor)\n",
        "\n",
        "print(x.modified_count,\"Document updated.\")\n",
        "\n",
        "for place in myplanet.find():\n",
        "  print(place)"
      ],
      "execution_count": null,
      "outputs": []
    },
    {
      "cell_type": "code",
      "metadata": {
        "id": "8ddcUEUkujHz"
      },
      "source": [
        "for place in myplanet.find().limit(5):\n",
        "  print(place)"
      ],
      "execution_count": null,
      "outputs": []
    },
    {
      "cell_type": "code",
      "metadata": {
        "id": "WFp-kDZpvwdI"
      },
      "source": [
        "import random\n",
        "\n",
        "def sendRandomNumbers():\n",
        "  return int(random.random()* 1000 )\n",
        "\n",
        "\n",
        "all_ids=[]\n",
        "\n",
        "for x in myplanet.find({\"name\":{\"$gt\":\"P\"}},{\"_id\":1, \"name\":1}):\n",
        "  all_ids.append(x)\n",
        "print(all_ids)"
      ],
      "execution_count": null,
      "outputs": []
    },
    {
      "cell_type": "code",
      "metadata": {
        "id": "nIPG4Aj7yQ_a"
      },
      "source": [
        "for record in all_ids:\n",
        "  searchfor = { \"name\" : record[\"name\"]}\n",
        "  updatefor = {\"$set\": { \"population\": sendRandomNumbers() } }\n",
        "  print(searchfor)\n",
        "  res = myplanet.update_one(searchfor,updatefor)\n",
        "  print(res)"
      ],
      "execution_count": null,
      "outputs": []
    },
    {
      "cell_type": "code",
      "metadata": {
        "id": "1ZoGZ4mIwk_s"
      },
      "source": [
        " for place in myplanet.find():\n",
        "   print(place)"
      ],
      "execution_count": null,
      "outputs": []
    },
    {
      "cell_type": "code",
      "metadata": {
        "colab": {
          "base_uri": "https://localhost:8080/"
        },
        "id": "JeZjgajKw0Gx",
        "outputId": "d3fb58fb-e9be-402a-e526-79fd71631766"
      },
      "source": [
        "\n",
        "dirty_ids = myplanet.find({\"population\":{\"$not\":{\"$gt\":0}}}, {\"_id\":1})\n",
        "\n",
        "dirty_ids.count()"
      ],
      "execution_count": null,
      "outputs": [
        {
          "output_type": "stream",
          "text": [
            "/usr/local/lib/python3.7/dist-packages/ipykernel_launcher.py:4: DeprecationWarning: count is deprecated. Use Collection.count_documents instead.\n",
            "  after removing the cwd from sys.path.\n"
          ],
          "name": "stderr"
        },
        {
          "output_type": "execute_result",
          "data": {
            "text/plain": [
              "0"
            ]
          },
          "metadata": {
            "tags": []
          },
          "execution_count": 56
        }
      ]
    },
    {
      "cell_type": "code",
      "metadata": {
        "id": "k57Ik4gn1pUW"
      },
      "source": [
        "for dirty_id in dirty_ids:\n",
        "  print(dirty_id)"
      ],
      "execution_count": null,
      "outputs": []
    },
    {
      "cell_type": "code",
      "metadata": {
        "id": "Yp0vrvFs1tBl"
      },
      "source": [
        "to_del= {\"population\":{\"$not\":{\"$gt\": 0}}}\n",
        "result = myplanet.delete_many(to_del)"
      ],
      "execution_count": null,
      "outputs": []
    },
    {
      "cell_type": "code",
      "metadata": {
        "id": "Lq_rKCuz1v8e"
      },
      "source": [
        "\n",
        "for place in myplanet.find():\n",
        "  print(place)"
      ],
      "execution_count": null,
      "outputs": []
    },
    {
      "cell_type": "code",
      "metadata": {
        "id": "Q40ZnEwr1zCD"
      },
      "source": [
        "mydata = myplanet.find().sort('_id')\n",
        "\n",
        "for place in mydata:\n",
        "  print(place)\n",
        "\n",
        "  "
      ],
      "execution_count": null,
      "outputs": []
    },
    {
      "cell_type": "code",
      "metadata": {
        "id": "pdsw3o1712iT"
      },
      "source": [
        ""
      ],
      "execution_count": null,
      "outputs": []
    }
  ]
}