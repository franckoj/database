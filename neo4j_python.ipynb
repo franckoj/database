{
  "nbformat": 4,
  "nbformat_minor": 0,
  "metadata": {
    "colab": {
      "name": "neo4j-python.ipynb",
      "provenance": [],
      "authorship_tag": "ABX9TyPeZiPXLXoPtId064WEBbg0",
      "include_colab_link": true
    },
    "kernelspec": {
      "name": "python3",
      "display_name": "Python 3"
    },
    "language_info": {
      "name": "python"
    }
  },
  "cells": [
    {
      "cell_type": "markdown",
      "metadata": {
        "id": "view-in-github",
        "colab_type": "text"
      },
      "source": [
        "<a href=\"https://colab.research.google.com/github/franckoj/database/blob/main/neo4j_python.ipynb\" target=\"_parent\"><img src=\"https://colab.research.google.com/assets/colab-badge.svg\" alt=\"Open In Colab\"/></a>"
      ]
    },
    {
      "cell_type": "code",
      "metadata": {
        "id": "gp--nPu-7m3r"
      },
      "source": [
        "!pip install neo4j"
      ],
      "execution_count": null,
      "outputs": []
    },
    {
      "cell_type": "code",
      "metadata": {
        "id": "Nx8y4kzR7wn0"
      },
      "source": [
        "import neo4j\n",
        "from neo4j import GraphDatabase\n",
        "\n",
        "uri='bolt://44.192.41.184:7687'\n",
        "user='neo4j'\n",
        "passwd='fort-core-pistons'\n",
        "driver=GraphDatabase.driver(uri,auth=(user, passwd))\n"
      ],
      "execution_count": null,
      "outputs": []
    },
    {
      "cell_type": "code",
      "metadata": {
        "id": "8VMbd5RJ8iIw"
      },
      "source": [
        "class Driver:\n",
        "  def __init__(this,uri,user,passwd):\n",
        "    this.driver = GraphDatabase.driver(uri, auth=(user, passwd))\n",
        "  def close(this): \n",
        "    this.driver.close()"
      ],
      "execution_count": null,
      "outputs": []
    },
    {
      "cell_type": "code",
      "metadata": {
        "id": "ajrBtJw09UnB"
      },
      "source": [
        "class Driver:\n",
        "  def __init__(this,uri,user,password):\n",
        "    this.driver = GraphDatabase.driver(uri, auth=(user, password))\n",
        "  def close(this):\n",
        "    this.driver.close()\n",
        "  \n",
        "  def executequery(this, query, parameters=None, db=None):\n",
        "    session = this.driver.session(database=db) if db is not None else this.driver.session()\n",
        "\n",
        "    response=[]\n",
        "\n",
        "    try:\n",
        "      response = list(session.run(query, parameters))\n",
        "    except Exception as e:\n",
        "      print(\"Query failed:\",e)\n",
        "    finally:\n",
        "      if session is not None:\n",
        "        session.close()\n",
        "      return response\n",
        "\n"
      ],
      "execution_count": null,
      "outputs": []
    },
    {
      "cell_type": "code",
      "metadata": {
        "colab": {
          "base_uri": "https://localhost:8080/"
        },
        "id": "ha9fCfun_TQR",
        "outputId": "50dacea9-5159-4fcb-f32e-e2d19fd9f59e"
      },
      "source": [
        "#query='CREATE (t:trainer{name:\"francis\"})-[rel:Likes]->(f:food{type:\"pasta\"})'\n",
        "\n",
        "query = 'CREATE (t:trainer)-[:LIKES]->(f:food)'\n",
        "mydriver = Driver(uri, user, passwd)\n",
        "mydriver.executequery(query)"
      ],
      "execution_count": null,
      "outputs": [
        {
          "output_type": "execute_result",
          "data": {
            "text/plain": [
              "[]"
            ]
          },
          "metadata": {
            "tags": []
          },
          "execution_count": 34
        }
      ]
    },
    {
      "cell_type": "code",
      "metadata": {
        "id": "ftx_q-hQDAb-"
      },
      "source": [
        "\n",
        "trainers = [\"Deepanshu\",\"mantis shrimp\",\"donald duck\"]\n",
        "food = [\"chole bhature\",\"samosa\",\"pav bhaji\"]"
      ],
      "execution_count": null,
      "outputs": []
    },
    {
      "cell_type": "code",
      "metadata": {
        "id": "O2PVp9VbGVyI"
      },
      "source": [
        "for c in range(3):\n",
        "  query = 'CREATE (t:trainer {name:\"'+trainers[c]+'\"})-[rel:LIKES]->(f:food{type:\"'+food[c]+'\"})'\n",
        "  mydriver.executequery(query)\n"
      ],
      "execution_count": null,
      "outputs": []
    },
    {
      "cell_type": "code",
      "metadata": {
        "id": "HDWiHr88GYmf"
      },
      "source": [
        "\n",
        "query = 'MATCH (t:trainer) RETURN t'\n",
        "mydriver.executequery(query)"
      ],
      "execution_count": null,
      "outputs": []
    },
    {
      "cell_type": "code",
      "metadata": {
        "colab": {
          "base_uri": "https://localhost:8080/"
        },
        "id": "9OfCD7CCGace",
        "outputId": "54a02a55-d73b-434f-ab6d-6ee93369d905"
      },
      "source": [
        "query = 'MATCH (t:trainer{name:\"Deepanshu\"})-[:LIKES]->(f:food) RETURN f '\n",
        "mydriver.executequery(query)"
      ],
      "execution_count": null,
      "outputs": [
        {
          "output_type": "execute_result",
          "data": {
            "text/plain": [
              "[<Record f=<Node id=7 labels=frozenset({'food'}) properties={'type': 'chole bhature'}>>]"
            ]
          },
          "metadata": {
            "tags": []
          },
          "execution_count": 39
        }
      ]
    },
    {
      "cell_type": "code",
      "metadata": {
        "colab": {
          "base_uri": "https://localhost:8080/"
        },
        "id": "tnpA8kh3JCMM",
        "outputId": "d9447f6f-0ef4-4f74-8ffc-ccea4d841fdc"
      },
      "source": [
        "query = 'MATCH (t:trainer)-[:LIKES]->(f:food{type:\"chole bhature\"}) RETURN t '\n",
        "mydriver.executequery(query)"
      ],
      "execution_count": null,
      "outputs": [
        {
          "output_type": "execute_result",
          "data": {
            "text/plain": [
              "[<Record t=<Node id=6 labels=frozenset({'trainer'}) properties={'name': 'Deepanshu'}>>]"
            ]
          },
          "metadata": {
            "tags": []
          },
          "execution_count": 40
        }
      ]
    },
    {
      "cell_type": "code",
      "metadata": {
        "id": "pej-_OiEJEoD"
      },
      "source": [
        "\n",
        "trainers = ['Anshu', 'Superman','Goofy','thor','Batman']\n",
        "students = ['humans','monkeys','cats','pikachus','giraffe']\n",
        "\n",
        "for c in range(5):\n",
        "  query = 'CREATE (t:trainer {name:\"'+trainers[c]+'\"})-[rel:TEACHES]->(s:student{gene:\"'+students[c]+'\"})'\n",
        "  mydriver.executequery(query)"
      ],
      "execution_count": null,
      "outputs": []
    },
    {
      "cell_type": "code",
      "metadata": {
        "colab": {
          "base_uri": "https://localhost:8080/"
        },
        "id": "skcp612sLKye",
        "outputId": "c7daa945-30a9-414a-dccf-ef5f5f75da26"
      },
      "source": [
        "\n",
        "query = 'MATCH (t:trainer)-[:TEACHES]->(s:student) RETURN t'\n",
        "mydriver.executequery(query)"
      ],
      "execution_count": null,
      "outputs": [
        {
          "output_type": "execute_result",
          "data": {
            "text/plain": [
              "[]"
            ]
          },
          "metadata": {
            "tags": []
          },
          "execution_count": 50
        }
      ]
    },
    {
      "cell_type": "code",
      "metadata": {
        "colab": {
          "base_uri": "https://localhost:8080/"
        },
        "id": "fusBC6WONf0v",
        "outputId": "027e419a-8704-472f-f983-91aff894dbe7"
      },
      "source": [
        "query = 'MATCH (t:trainer{name:\"Batman\"}) SET t.birthdate = date(\"1980-10-10\") RETURN t'\n",
        "mydriver.executequery(query)"
      ],
      "execution_count": null,
      "outputs": [
        {
          "output_type": "execute_result",
          "data": {
            "text/plain": [
              "[<Record t=<Node id=20 labels=frozenset({'trainer'}) properties={'name': 'Batman', 'birthdate': neo4j.time.Date(1980, 10, 10)}>>]"
            ]
          },
          "metadata": {
            "tags": []
          },
          "execution_count": 57
        }
      ]
    },
    {
      "cell_type": "code",
      "metadata": {
        "colab": {
          "base_uri": "https://localhost:8080/"
        },
        "id": "8aPHEsMZNkzP",
        "outputId": "77ee3ea6-62cc-4191-8f81-123b42a284ef"
      },
      "source": [
        "query = 'MATCH (t:trainer)-[tea:TEACHES]-(s:student) RETURN t.name,tea.id,s.gene'\n",
        "mydriver.executequery(query)"
      ],
      "execution_count": null,
      "outputs": [
        {
          "output_type": "execute_result",
          "data": {
            "text/plain": [
              "[]"
            ]
          },
          "metadata": {
            "tags": []
          },
          "execution_count": 52
        }
      ]
    },
    {
      "cell_type": "code",
      "metadata": {
        "colab": {
          "base_uri": "https://localhost:8080/"
        },
        "id": "XVG-NE0dNo9E",
        "outputId": "6a1ef7da-7212-4edf-843a-e2c99e0ecccc"
      },
      "source": [
        "\n",
        "query = 'MATCH (t:trainer) WHERE t.name=\"Batman\" RETURN t'\n",
        "mydriver.executequery(query)"
      ],
      "execution_count": null,
      "outputs": [
        {
          "output_type": "execute_result",
          "data": {
            "text/plain": [
              "[]"
            ]
          },
          "metadata": {
            "tags": []
          },
          "execution_count": 53
        }
      ]
    },
    {
      "cell_type": "code",
      "metadata": {
        "colab": {
          "base_uri": "https://localhost:8080/"
        },
        "id": "pgNqPm1HNsU7",
        "outputId": "79503525-85f9-48db-ec17-ac9f6794f27f"
      },
      "source": [
        "query = 'MATCH (t:trainer) WHERE NOT t.name=\"Batman\" RETURN t.name, t.birthdate'\n",
        "mydriver.executequery(query)"
      ],
      "execution_count": null,
      "outputs": [
        {
          "output_type": "execute_result",
          "data": {
            "text/plain": [
              "[<Record t.name='francis' t.birthdate=None>,\n",
              " <Record t.name='Deepanshu' t.birthdate=None>,\n",
              " <Record t.name='mantis shrimp' t.birthdate=None>,\n",
              " <Record t.name='donald duck' t.birthdate=None>,\n",
              " <Record t.name='Anshu' t.birthdate=None>,\n",
              " <Record t.name='Superman' t.birthdate=None>,\n",
              " <Record t.name='Goofy' t.birthdate=None>,\n",
              " <Record t.name='thor' t.birthdate=None>]"
            ]
          },
          "metadata": {
            "tags": []
          },
          "execution_count": 56
        }
      ]
    },
    {
      "cell_type": "code",
      "metadata": {
        "colab": {
          "base_uri": "https://localhost:8080/"
        },
        "id": "3Uzu2vfCNv_H",
        "outputId": "8c28e1c7-3630-426a-bc89-5aa0e46de642"
      },
      "source": [
        "query = 'MATCH (t:trainer) WHERE NOT t.name=\"Batman\" RETURN t.name, t.birthdate'\n",
        "mydriver.executequery(query)"
      ],
      "execution_count": null,
      "outputs": [
        {
          "output_type": "execute_result",
          "data": {
            "text/plain": [
              "[<Record t.name='francis' t.birthdate=None>,\n",
              " <Record t.name='Deepanshu' t.birthdate=None>,\n",
              " <Record t.name='mantis shrimp' t.birthdate=None>,\n",
              " <Record t.name='donald duck' t.birthdate=None>,\n",
              " <Record t.name='Anshu' t.birthdate=None>,\n",
              " <Record t.name='Superman' t.birthdate=None>,\n",
              " <Record t.name='Goofy' t.birthdate=None>,\n",
              " <Record t.name='thor' t.birthdate=None>]"
            ]
          },
          "metadata": {
            "tags": []
          },
          "execution_count": 58
        }
      ]
    },
    {
      "cell_type": "code",
      "metadata": {
        "colab": {
          "base_uri": "https://localhost:8080/"
        },
        "id": "qlywcyryOIOm",
        "outputId": "4179a5a0-d028-4f20-ea84-956ea79ad11e"
      },
      "source": [
        "\n",
        "query = 'MATCH (d:trainer) WHERE exists(d.birthdate) RETURN d.name, d.birthdate'\n",
        "mydriver.executequery(query)"
      ],
      "execution_count": null,
      "outputs": [
        {
          "output_type": "execute_result",
          "data": {
            "text/plain": [
              "[<Record d.name='Batman' d.birthdate=neo4j.time.Date(1980, 10, 10)>]"
            ]
          },
          "metadata": {
            "tags": []
          },
          "execution_count": 59
        }
      ]
    },
    {
      "cell_type": "code",
      "metadata": {
        "colab": {
          "base_uri": "https://localhost:8080/"
        },
        "id": "3YvCbJj-OL3C",
        "outputId": "d49fbce1-28e9-41b9-b296-63b6364d2d2a"
      },
      "source": [
        "\n",
        "query = 'MATCH (d:trainer)-[rel:LIKES]->(f:food) WHERE exists(d.birthdate) RETURN d.name, d.birthdate,f.type'\n",
        "mydriver.executequery(query)"
      ],
      "execution_count": null,
      "outputs": [
        {
          "output_type": "execute_result",
          "data": {
            "text/plain": [
              "[]"
            ]
          },
          "metadata": {
            "tags": []
          },
          "execution_count": 61
        }
      ]
    },
    {
      "cell_type": "code",
      "metadata": {
        "id": "ZYqq_4H4OOjR"
      },
      "source": [
        "trainers = ['Anshu', 'Superman','Goofy','thor','Batman']\n",
        "\n",
        "import random\n",
        "def sendRandomNumber():\n",
        "  return int(random.random()*1000)\n",
        "\n",
        "for trainer in trainers:\n",
        "  query = 'CREATE (t:trainer {name:\"'+trainer+'\"}) SET t.age='+str(sendRandomNumber())+' RETURN t'\n",
        "  mydriver.executequery(query)"
      ],
      "execution_count": null,
      "outputs": []
    },
    {
      "cell_type": "code",
      "metadata": {
        "colab": {
          "base_uri": "https://localhost:8080/"
        },
        "id": "H6tnhxI4P6u7",
        "outputId": "bffd5cfb-02e9-466c-afbb-7d77acba4b1f"
      },
      "source": [
        "query='MATCH (t:trainer) RETURN t'\n",
        "mydriver.executequery(query)"
      ],
      "execution_count": null,
      "outputs": [
        {
          "output_type": "execute_result",
          "data": {
            "text/plain": [
              "[<Record t=<Node id=0 labels=frozenset({'trainer'}) properties={}>>,\n",
              " <Record t=<Node id=2 labels=frozenset({'trainer'}) properties={'name': 'francis'}>>,\n",
              " <Record t=<Node id=4 labels=frozenset({'trainer'}) properties={}>>,\n",
              " <Record t=<Node id=6 labels=frozenset({'trainer'}) properties={'name': 'Deepanshu'}>>,\n",
              " <Record t=<Node id=8 labels=frozenset({'trainer'}) properties={'name': 'mantis shrimp'}>>,\n",
              " <Record t=<Node id=10 labels=frozenset({'trainer'}) properties={'name': 'donald duck'}>>,\n",
              " <Record t=<Node id=12 labels=frozenset({'trainer'}) properties={'name': 'Anshu'}>>,\n",
              " <Record t=<Node id=14 labels=frozenset({'trainer'}) properties={'name': 'Superman'}>>,\n",
              " <Record t=<Node id=16 labels=frozenset({'trainer'}) properties={'name': 'Goofy'}>>,\n",
              " <Record t=<Node id=18 labels=frozenset({'trainer'}) properties={'name': 'thor'}>>,\n",
              " <Record t=<Node id=20 labels=frozenset({'trainer'}) properties={'name': 'Batman', 'birthdate': neo4j.time.Date(1980, 10, 10)}>>]"
            ]
          },
          "metadata": {
            "tags": []
          },
          "execution_count": 63
        }
      ]
    },
    {
      "cell_type": "code",
      "metadata": {
        "colab": {
          "base_uri": "https://localhost:8080/"
        },
        "id": "zHzEgXQXQOGU",
        "outputId": "030381f9-f1c7-41e8-fb72-ba8dd9079550"
      },
      "source": [
        "query='MATCH (t:trainer) WHERE 350< t.age<700 RETURN t'\n",
        "mydriver.executequery(query)"
      ],
      "execution_count": null,
      "outputs": [
        {
          "output_type": "execute_result",
          "data": {
            "text/plain": [
              "[<Record t=<Node id=22 labels=frozenset({'trainer'}) properties={'name': 'Anshu', 'age': 664}>>]"
            ]
          },
          "metadata": {
            "tags": []
          },
          "execution_count": 65
        }
      ]
    },
    {
      "cell_type": "code",
      "metadata": {
        "colab": {
          "base_uri": "https://localhost:8080/"
        },
        "id": "w6swFpTUQvGP",
        "outputId": "f62dc8dd-ce1d-4c27-e4d7-7790023d0f3a"
      },
      "source": [
        "query='MATCH (t:trainer) WHERE t.name STARTS WITH \"G\" RETURN t.name'\n",
        "print(mydriver.executequery(query))\n",
        "query='MATCH (t:trainer) WHERE t.name CONTAINS \"a\" RETURN t.name'\n",
        "print(mydriver.executequery(query))\n",
        "query='MATCH (t:trainer) WHERE t.name ENDS WITH \"u\" RETURN t.name'\n",
        "print(mydriver.executequery(query))"
      ],
      "execution_count": null,
      "outputs": [
        {
          "output_type": "stream",
          "text": [
            "[<Record t.name='Goofy'>, <Record t.name='Goofy'>]\n",
            "[<Record t.name='francis'>, <Record t.name='Deepanshu'>, <Record t.name='mantis shrimp'>, <Record t.name='donald duck'>, <Record t.name='Superman'>, <Record t.name='Batman'>, <Record t.name='Superman'>, <Record t.name='Batman'>]\n",
            "[<Record t.name='Deepanshu'>, <Record t.name='Anshu'>, <Record t.name='Anshu'>]\n"
          ],
          "name": "stdout"
        }
      ]
    },
    {
      "cell_type": "code",
      "metadata": {
        "id": "mxoZfgSiRYYI"
      },
      "source": [
        ""
      ],
      "execution_count": null,
      "outputs": []
    }
  ]
}